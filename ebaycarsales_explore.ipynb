{
 "cells": [
  {
   "cell_type": "markdown",
   "metadata": {
    "collapsed": true
   },
   "source": [
    "### Guided Project: \n",
    "# Exploring eBay Car Sales Data"
   ]
  },
  {
   "cell_type": "markdown",
   "metadata": {},
   "source": [
    "The aim of this project is to clean 370k+ rows x 20 columns amount of eBay car sales data and analyze the included used car listings. You'll also become familiar with some of the unique benefits *Jupyter Notebook* provides for *Pandas.* "
   ]
  },
  {
   "cell_type": "markdown",
   "metadata": {},
   "source": [
    "You could find the data [here](https://data.world/data-society/used-cars-data) (originally from Kaggle by user orgesleka)"
   ]
  },
  {
   "cell_type": "code",
   "execution_count": 1,
   "metadata": {},
   "outputs": [
    {
     "name": "stdout",
     "output_type": "stream",
     "text": [
      "<class 'pandas.core.frame.DataFrame'>\n",
      "RangeIndex: 50000 entries, 0 to 49999\n",
      "Data columns (total 20 columns):\n",
      " #   Column               Non-Null Count  Dtype \n",
      "---  ------               --------------  ----- \n",
      " 0   dateCrawled          50000 non-null  object\n",
      " 1   name                 50000 non-null  object\n",
      " 2   seller               50000 non-null  object\n",
      " 3   offerType            50000 non-null  object\n",
      " 4   price                50000 non-null  object\n",
      " 5   abtest               50000 non-null  object\n",
      " 6   vehicleType          44905 non-null  object\n",
      " 7   yearOfRegistration   50000 non-null  int64 \n",
      " 8   gearbox              47320 non-null  object\n",
      " 9   powerPS              50000 non-null  int64 \n",
      " 10  model                47242 non-null  object\n",
      " 11  odometer             50000 non-null  object\n",
      " 12  monthOfRegistration  50000 non-null  int64 \n",
      " 13  fuelType             45518 non-null  object\n",
      " 14  brand                50000 non-null  object\n",
      " 15  notRepairedDamage    40171 non-null  object\n",
      " 16  dateCreated          50000 non-null  object\n",
      " 17  nrOfPictures         50000 non-null  int64 \n",
      " 18  postalCode           50000 non-null  int64 \n",
      " 19  lastSeen             50000 non-null  object\n",
      "dtypes: int64(5), object(15)\n",
      "memory usage: 7.6+ MB\n"
     ]
    },
    {
     "data": {
      "text/html": [
       "<div>\n",
       "<style scoped>\n",
       "    .dataframe tbody tr th:only-of-type {\n",
       "        vertical-align: middle;\n",
       "    }\n",
       "\n",
       "    .dataframe tbody tr th {\n",
       "        vertical-align: top;\n",
       "    }\n",
       "\n",
       "    .dataframe thead th {\n",
       "        text-align: right;\n",
       "    }\n",
       "</style>\n",
       "<table border=\"1\" class=\"dataframe\">\n",
       "  <thead>\n",
       "    <tr style=\"text-align: right;\">\n",
       "      <th></th>\n",
       "      <th>dateCrawled</th>\n",
       "      <th>name</th>\n",
       "      <th>seller</th>\n",
       "      <th>offerType</th>\n",
       "      <th>price</th>\n",
       "      <th>abtest</th>\n",
       "      <th>vehicleType</th>\n",
       "      <th>yearOfRegistration</th>\n",
       "      <th>gearbox</th>\n",
       "      <th>powerPS</th>\n",
       "      <th>model</th>\n",
       "      <th>odometer</th>\n",
       "      <th>monthOfRegistration</th>\n",
       "      <th>fuelType</th>\n",
       "      <th>brand</th>\n",
       "      <th>notRepairedDamage</th>\n",
       "      <th>dateCreated</th>\n",
       "      <th>nrOfPictures</th>\n",
       "      <th>postalCode</th>\n",
       "      <th>lastSeen</th>\n",
       "    </tr>\n",
       "  </thead>\n",
       "  <tbody>\n",
       "    <tr>\n",
       "      <th>0</th>\n",
       "      <td>2016-03-26 17:47:46</td>\n",
       "      <td>Peugeot_807_160_NAVTECH_ON_BOARD</td>\n",
       "      <td>privat</td>\n",
       "      <td>Angebot</td>\n",
       "      <td>$5,000</td>\n",
       "      <td>control</td>\n",
       "      <td>bus</td>\n",
       "      <td>2004</td>\n",
       "      <td>manuell</td>\n",
       "      <td>158</td>\n",
       "      <td>andere</td>\n",
       "      <td>150,000km</td>\n",
       "      <td>3</td>\n",
       "      <td>lpg</td>\n",
       "      <td>peugeot</td>\n",
       "      <td>nein</td>\n",
       "      <td>2016-03-26 00:00:00</td>\n",
       "      <td>0</td>\n",
       "      <td>79588</td>\n",
       "      <td>2016-04-06 06:45:54</td>\n",
       "    </tr>\n",
       "    <tr>\n",
       "      <th>1</th>\n",
       "      <td>2016-04-04 13:38:56</td>\n",
       "      <td>BMW_740i_4_4_Liter_HAMANN_UMBAU_Mega_Optik</td>\n",
       "      <td>privat</td>\n",
       "      <td>Angebot</td>\n",
       "      <td>$8,500</td>\n",
       "      <td>control</td>\n",
       "      <td>limousine</td>\n",
       "      <td>1997</td>\n",
       "      <td>automatik</td>\n",
       "      <td>286</td>\n",
       "      <td>7er</td>\n",
       "      <td>150,000km</td>\n",
       "      <td>6</td>\n",
       "      <td>benzin</td>\n",
       "      <td>bmw</td>\n",
       "      <td>nein</td>\n",
       "      <td>2016-04-04 00:00:00</td>\n",
       "      <td>0</td>\n",
       "      <td>71034</td>\n",
       "      <td>2016-04-06 14:45:08</td>\n",
       "    </tr>\n",
       "    <tr>\n",
       "      <th>2</th>\n",
       "      <td>2016-03-26 18:57:24</td>\n",
       "      <td>Volkswagen_Golf_1.6_United</td>\n",
       "      <td>privat</td>\n",
       "      <td>Angebot</td>\n",
       "      <td>$8,990</td>\n",
       "      <td>test</td>\n",
       "      <td>limousine</td>\n",
       "      <td>2009</td>\n",
       "      <td>manuell</td>\n",
       "      <td>102</td>\n",
       "      <td>golf</td>\n",
       "      <td>70,000km</td>\n",
       "      <td>7</td>\n",
       "      <td>benzin</td>\n",
       "      <td>volkswagen</td>\n",
       "      <td>nein</td>\n",
       "      <td>2016-03-26 00:00:00</td>\n",
       "      <td>0</td>\n",
       "      <td>35394</td>\n",
       "      <td>2016-04-06 20:15:37</td>\n",
       "    </tr>\n",
       "    <tr>\n",
       "      <th>3</th>\n",
       "      <td>2016-03-12 16:58:10</td>\n",
       "      <td>Smart_smart_fortwo_coupe_softouch/F1/Klima/Pan...</td>\n",
       "      <td>privat</td>\n",
       "      <td>Angebot</td>\n",
       "      <td>$4,350</td>\n",
       "      <td>control</td>\n",
       "      <td>kleinwagen</td>\n",
       "      <td>2007</td>\n",
       "      <td>automatik</td>\n",
       "      <td>71</td>\n",
       "      <td>fortwo</td>\n",
       "      <td>70,000km</td>\n",
       "      <td>6</td>\n",
       "      <td>benzin</td>\n",
       "      <td>smart</td>\n",
       "      <td>nein</td>\n",
       "      <td>2016-03-12 00:00:00</td>\n",
       "      <td>0</td>\n",
       "      <td>33729</td>\n",
       "      <td>2016-03-15 03:16:28</td>\n",
       "    </tr>\n",
       "    <tr>\n",
       "      <th>4</th>\n",
       "      <td>2016-04-01 14:38:50</td>\n",
       "      <td>Ford_Focus_1_6_Benzin_TÜV_neu_ist_sehr_gepfleg...</td>\n",
       "      <td>privat</td>\n",
       "      <td>Angebot</td>\n",
       "      <td>$1,350</td>\n",
       "      <td>test</td>\n",
       "      <td>kombi</td>\n",
       "      <td>2003</td>\n",
       "      <td>manuell</td>\n",
       "      <td>0</td>\n",
       "      <td>focus</td>\n",
       "      <td>150,000km</td>\n",
       "      <td>7</td>\n",
       "      <td>benzin</td>\n",
       "      <td>ford</td>\n",
       "      <td>nein</td>\n",
       "      <td>2016-04-01 00:00:00</td>\n",
       "      <td>0</td>\n",
       "      <td>39218</td>\n",
       "      <td>2016-04-01 14:38:50</td>\n",
       "    </tr>\n",
       "  </tbody>\n",
       "</table>\n",
       "</div>"
      ],
      "text/plain": [
       "           dateCrawled                                               name  \\\n",
       "0  2016-03-26 17:47:46                   Peugeot_807_160_NAVTECH_ON_BOARD   \n",
       "1  2016-04-04 13:38:56         BMW_740i_4_4_Liter_HAMANN_UMBAU_Mega_Optik   \n",
       "2  2016-03-26 18:57:24                         Volkswagen_Golf_1.6_United   \n",
       "3  2016-03-12 16:58:10  Smart_smart_fortwo_coupe_softouch/F1/Klima/Pan...   \n",
       "4  2016-04-01 14:38:50  Ford_Focus_1_6_Benzin_TÜV_neu_ist_sehr_gepfleg...   \n",
       "\n",
       "   seller offerType   price   abtest vehicleType  yearOfRegistration  \\\n",
       "0  privat   Angebot  $5,000  control         bus                2004   \n",
       "1  privat   Angebot  $8,500  control   limousine                1997   \n",
       "2  privat   Angebot  $8,990     test   limousine                2009   \n",
       "3  privat   Angebot  $4,350  control  kleinwagen                2007   \n",
       "4  privat   Angebot  $1,350     test       kombi                2003   \n",
       "\n",
       "     gearbox  powerPS   model   odometer  monthOfRegistration fuelType  \\\n",
       "0    manuell      158  andere  150,000km                    3      lpg   \n",
       "1  automatik      286     7er  150,000km                    6   benzin   \n",
       "2    manuell      102    golf   70,000km                    7   benzin   \n",
       "3  automatik       71  fortwo   70,000km                    6   benzin   \n",
       "4    manuell        0   focus  150,000km                    7   benzin   \n",
       "\n",
       "        brand notRepairedDamage          dateCreated  nrOfPictures  \\\n",
       "0     peugeot              nein  2016-03-26 00:00:00             0   \n",
       "1         bmw              nein  2016-04-04 00:00:00             0   \n",
       "2  volkswagen              nein  2016-03-26 00:00:00             0   \n",
       "3       smart              nein  2016-03-12 00:00:00             0   \n",
       "4        ford              nein  2016-04-01 00:00:00             0   \n",
       "\n",
       "   postalCode             lastSeen  \n",
       "0       79588  2016-04-06 06:45:54  \n",
       "1       71034  2016-04-06 14:45:08  \n",
       "2       35394  2016-04-06 20:15:37  \n",
       "3       33729  2016-03-15 03:16:28  \n",
       "4       39218  2016-04-01 14:38:50  "
      ]
     },
     "execution_count": 1,
     "metadata": {},
     "output_type": "execute_result"
    }
   ],
   "source": [
    "# Import Pandas and NumPy\n",
    "import pandas as pd\n",
    "import numpy as np\n",
    "\n",
    "# Read the data (pd)\n",
    "autos = pd.read_csv('autos.csv', encoding='Latin-1')\n",
    "\n",
    "# Check the data info\n",
    "autos.info()\n",
    "\n",
    "# Check first 5 data\n",
    "autos.head()"
   ]
  },
  {
   "cell_type": "markdown",
   "metadata": {},
   "source": [
    "## Data Cleaning: Columns"
   ]
  },
  {
   "cell_type": "markdown",
   "metadata": {},
   "source": [
    "You've noticed that several data are missing in the `info`, they include `vehicleType`, `gearbox`, `model`, `fuelType`, and `notRepairedDamage`. We can clean these data in order to analyze it well. Also, the writing format use \"CamelCase\", where you connect the words with capital letters. The convention is to use \"snake_case\", where each word is connected by character underscore (\"\\_\"). We can tackle this one first."
   ]
  },
  {
   "cell_type": "markdown",
   "metadata": {},
   "source": [
    "In `DataFrame.info()`, we can see 20 columns data with its respective type. The 5 first data can be portrayed through `DataFrame.head()`"
   ]
  },
  {
   "cell_type": "code",
   "execution_count": 2,
   "metadata": {},
   "outputs": [
    {
     "name": "stdout",
     "output_type": "stream",
     "text": [
      "Index(['dateCrawled', 'name', 'seller', 'offerType', 'price', 'abtest',\n",
      "       'vehicleType', 'yearOfRegistration', 'gearbox', 'powerPS', 'model',\n",
      "       'odometer', 'monthOfRegistration', 'fuelType', 'brand',\n",
      "       'notRepairedDamage', 'dateCreated', 'nrOfPictures', 'postalCode',\n",
      "       'lastSeen'],\n",
      "      dtype='object')\n"
     ]
    }
   ],
   "source": [
    "print(autos.columns)"
   ]
  },
  {
   "cell_type": "markdown",
   "metadata": {},
   "source": [
    "`# Rename the CamelCase columns to snake_case`\n",
    "`# FIRST TRY:`\n",
    "`autos.rename(columns={'dateCrawled': 'date_crawled'}, inplace=True)`\n",
    "`autos.rename(columns={'offerType': 'offer_type'}, inplace=True)`\n",
    "`autos.rename(columns={'vehicleType': 'vehicle_type'}, inplace=True)`\n",
    "`autos.rename(columns={'yearOfRegistration': 'year_of_registration'}, inplace=True)`\n",
    "`autos.rename(columns={'powerPS': 'power_ps'}, inplace=True)`\n",
    "`autos.rename(columns={'monthOfRegistration': 'month_of_registration'}, inplace=True)`\n",
    "`autos.rename(columns={'fuelType': 'fuel_type'}, inplace=True)`\n",
    "`autos.rename(columns={'notRepairedDamage': 'not_repaired_damage'}, inplace=True)`\n",
    "`autos.rename(columns={'dateCreated': 'date_created'}, inplace=True)`\n",
    "`autos.rename(columns={'nrOfPictures': 'nr_of_pictures'}, inplace=True)`\n",
    "`autos.rename(columns={'postalCode': 'postal_code'}, inplace=True)`\n",
    "`autos.rename(columns={'lastSeen': 'last_seen'}, inplace=True)`"
   ]
  },
  {
   "cell_type": "markdown",
   "metadata": {},
   "source": [
    "^ First try -- Not effective.\n",
    "We can change it in a line instead like below:"
   ]
  },
  {
   "cell_type": "code",
   "execution_count": 3,
   "metadata": {},
   "outputs": [
    {
     "data": {
      "text/html": [
       "<div>\n",
       "<style scoped>\n",
       "    .dataframe tbody tr th:only-of-type {\n",
       "        vertical-align: middle;\n",
       "    }\n",
       "\n",
       "    .dataframe tbody tr th {\n",
       "        vertical-align: top;\n",
       "    }\n",
       "\n",
       "    .dataframe thead th {\n",
       "        text-align: right;\n",
       "    }\n",
       "</style>\n",
       "<table border=\"1\" class=\"dataframe\">\n",
       "  <thead>\n",
       "    <tr style=\"text-align: right;\">\n",
       "      <th></th>\n",
       "      <th>date_crawled</th>\n",
       "      <th>name</th>\n",
       "      <th>seller</th>\n",
       "      <th>offer_type</th>\n",
       "      <th>price</th>\n",
       "      <th>abtest</th>\n",
       "      <th>vehicle_type</th>\n",
       "      <th>reg_year</th>\n",
       "      <th>gearbox</th>\n",
       "      <th>power_ps</th>\n",
       "      <th>model</th>\n",
       "      <th>odometer</th>\n",
       "      <th>reg_month</th>\n",
       "      <th>fuel_type</th>\n",
       "      <th>brand</th>\n",
       "      <th>unrepaired_damage</th>\n",
       "      <th>ad_created</th>\n",
       "      <th>nr_of_pictures</th>\n",
       "      <th>postal_code</th>\n",
       "      <th>last_seen</th>\n",
       "    </tr>\n",
       "  </thead>\n",
       "  <tbody>\n",
       "    <tr>\n",
       "      <th>0</th>\n",
       "      <td>2016-03-26 17:47:46</td>\n",
       "      <td>Peugeot_807_160_NAVTECH_ON_BOARD</td>\n",
       "      <td>privat</td>\n",
       "      <td>Angebot</td>\n",
       "      <td>$5,000</td>\n",
       "      <td>control</td>\n",
       "      <td>bus</td>\n",
       "      <td>2004</td>\n",
       "      <td>manuell</td>\n",
       "      <td>158</td>\n",
       "      <td>andere</td>\n",
       "      <td>150,000km</td>\n",
       "      <td>3</td>\n",
       "      <td>lpg</td>\n",
       "      <td>peugeot</td>\n",
       "      <td>nein</td>\n",
       "      <td>2016-03-26 00:00:00</td>\n",
       "      <td>0</td>\n",
       "      <td>79588</td>\n",
       "      <td>2016-04-06 06:45:54</td>\n",
       "    </tr>\n",
       "    <tr>\n",
       "      <th>1</th>\n",
       "      <td>2016-04-04 13:38:56</td>\n",
       "      <td>BMW_740i_4_4_Liter_HAMANN_UMBAU_Mega_Optik</td>\n",
       "      <td>privat</td>\n",
       "      <td>Angebot</td>\n",
       "      <td>$8,500</td>\n",
       "      <td>control</td>\n",
       "      <td>limousine</td>\n",
       "      <td>1997</td>\n",
       "      <td>automatik</td>\n",
       "      <td>286</td>\n",
       "      <td>7er</td>\n",
       "      <td>150,000km</td>\n",
       "      <td>6</td>\n",
       "      <td>benzin</td>\n",
       "      <td>bmw</td>\n",
       "      <td>nein</td>\n",
       "      <td>2016-04-04 00:00:00</td>\n",
       "      <td>0</td>\n",
       "      <td>71034</td>\n",
       "      <td>2016-04-06 14:45:08</td>\n",
       "    </tr>\n",
       "    <tr>\n",
       "      <th>2</th>\n",
       "      <td>2016-03-26 18:57:24</td>\n",
       "      <td>Volkswagen_Golf_1.6_United</td>\n",
       "      <td>privat</td>\n",
       "      <td>Angebot</td>\n",
       "      <td>$8,990</td>\n",
       "      <td>test</td>\n",
       "      <td>limousine</td>\n",
       "      <td>2009</td>\n",
       "      <td>manuell</td>\n",
       "      <td>102</td>\n",
       "      <td>golf</td>\n",
       "      <td>70,000km</td>\n",
       "      <td>7</td>\n",
       "      <td>benzin</td>\n",
       "      <td>volkswagen</td>\n",
       "      <td>nein</td>\n",
       "      <td>2016-03-26 00:00:00</td>\n",
       "      <td>0</td>\n",
       "      <td>35394</td>\n",
       "      <td>2016-04-06 20:15:37</td>\n",
       "    </tr>\n",
       "    <tr>\n",
       "      <th>3</th>\n",
       "      <td>2016-03-12 16:58:10</td>\n",
       "      <td>Smart_smart_fortwo_coupe_softouch/F1/Klima/Pan...</td>\n",
       "      <td>privat</td>\n",
       "      <td>Angebot</td>\n",
       "      <td>$4,350</td>\n",
       "      <td>control</td>\n",
       "      <td>kleinwagen</td>\n",
       "      <td>2007</td>\n",
       "      <td>automatik</td>\n",
       "      <td>71</td>\n",
       "      <td>fortwo</td>\n",
       "      <td>70,000km</td>\n",
       "      <td>6</td>\n",
       "      <td>benzin</td>\n",
       "      <td>smart</td>\n",
       "      <td>nein</td>\n",
       "      <td>2016-03-12 00:00:00</td>\n",
       "      <td>0</td>\n",
       "      <td>33729</td>\n",
       "      <td>2016-03-15 03:16:28</td>\n",
       "    </tr>\n",
       "    <tr>\n",
       "      <th>4</th>\n",
       "      <td>2016-04-01 14:38:50</td>\n",
       "      <td>Ford_Focus_1_6_Benzin_TÜV_neu_ist_sehr_gepfleg...</td>\n",
       "      <td>privat</td>\n",
       "      <td>Angebot</td>\n",
       "      <td>$1,350</td>\n",
       "      <td>test</td>\n",
       "      <td>kombi</td>\n",
       "      <td>2003</td>\n",
       "      <td>manuell</td>\n",
       "      <td>0</td>\n",
       "      <td>focus</td>\n",
       "      <td>150,000km</td>\n",
       "      <td>7</td>\n",
       "      <td>benzin</td>\n",
       "      <td>ford</td>\n",
       "      <td>nein</td>\n",
       "      <td>2016-04-01 00:00:00</td>\n",
       "      <td>0</td>\n",
       "      <td>39218</td>\n",
       "      <td>2016-04-01 14:38:50</td>\n",
       "    </tr>\n",
       "  </tbody>\n",
       "</table>\n",
       "</div>"
      ],
      "text/plain": [
       "          date_crawled                                               name  \\\n",
       "0  2016-03-26 17:47:46                   Peugeot_807_160_NAVTECH_ON_BOARD   \n",
       "1  2016-04-04 13:38:56         BMW_740i_4_4_Liter_HAMANN_UMBAU_Mega_Optik   \n",
       "2  2016-03-26 18:57:24                         Volkswagen_Golf_1.6_United   \n",
       "3  2016-03-12 16:58:10  Smart_smart_fortwo_coupe_softouch/F1/Klima/Pan...   \n",
       "4  2016-04-01 14:38:50  Ford_Focus_1_6_Benzin_TÜV_neu_ist_sehr_gepfleg...   \n",
       "\n",
       "   seller offer_type   price   abtest vehicle_type  reg_year    gearbox  \\\n",
       "0  privat    Angebot  $5,000  control          bus      2004    manuell   \n",
       "1  privat    Angebot  $8,500  control    limousine      1997  automatik   \n",
       "2  privat    Angebot  $8,990     test    limousine      2009    manuell   \n",
       "3  privat    Angebot  $4,350  control   kleinwagen      2007  automatik   \n",
       "4  privat    Angebot  $1,350     test        kombi      2003    manuell   \n",
       "\n",
       "   power_ps   model   odometer  reg_month fuel_type       brand  \\\n",
       "0       158  andere  150,000km          3       lpg     peugeot   \n",
       "1       286     7er  150,000km          6    benzin         bmw   \n",
       "2       102    golf   70,000km          7    benzin  volkswagen   \n",
       "3        71  fortwo   70,000km          6    benzin       smart   \n",
       "4         0   focus  150,000km          7    benzin        ford   \n",
       "\n",
       "  unrepaired_damage           ad_created  nr_of_pictures  postal_code  \\\n",
       "0              nein  2016-03-26 00:00:00               0        79588   \n",
       "1              nein  2016-04-04 00:00:00               0        71034   \n",
       "2              nein  2016-03-26 00:00:00               0        35394   \n",
       "3              nein  2016-03-12 00:00:00               0        33729   \n",
       "4              nein  2016-04-01 00:00:00               0        39218   \n",
       "\n",
       "             last_seen  \n",
       "0  2016-04-06 06:45:54  \n",
       "1  2016-04-06 14:45:08  \n",
       "2  2016-04-06 20:15:37  \n",
       "3  2016-03-15 03:16:28  \n",
       "4  2016-04-01 14:38:50  "
      ]
     },
     "execution_count": 3,
     "metadata": {},
     "output_type": "execute_result"
    }
   ],
   "source": [
    "# Changing all columns in one line.\n",
    "autos.columns = ['date_crawled', 'name', 'seller', 'offer_type', \n",
    "                 'price', 'abtest', 'vehicle_type', 'reg_year',\n",
    "                 'gearbox', 'power_ps', 'model', 'odometer',\n",
    "                 'reg_month', 'fuel_type', 'brand', \n",
    "                 'unrepaired_damage', 'ad_created', 'nr_of_pictures',\n",
    "                 'postal_code', 'last_seen']\n",
    "autos.head()"
   ]
  },
  {
   "cell_type": "markdown",
   "metadata": {},
   "source": [
    "There we go :D"
   ]
  },
  {
   "cell_type": "markdown",
   "metadata": {},
   "source": [
    "We can also change the data format and type of both `price` and `odometer`. As shown in autos.info(), they're in `str` format, while we want to calculate them with the `int` type."
   ]
  },
  {
   "cell_type": "code",
   "execution_count": 4,
   "metadata": {},
   "outputs": [
    {
     "data": {
      "text/html": [
       "<div>\n",
       "<style scoped>\n",
       "    .dataframe tbody tr th:only-of-type {\n",
       "        vertical-align: middle;\n",
       "    }\n",
       "\n",
       "    .dataframe tbody tr th {\n",
       "        vertical-align: top;\n",
       "    }\n",
       "\n",
       "    .dataframe thead th {\n",
       "        text-align: right;\n",
       "    }\n",
       "</style>\n",
       "<table border=\"1\" class=\"dataframe\">\n",
       "  <thead>\n",
       "    <tr style=\"text-align: right;\">\n",
       "      <th></th>\n",
       "      <th>date_crawled</th>\n",
       "      <th>name</th>\n",
       "      <th>seller</th>\n",
       "      <th>offer_type</th>\n",
       "      <th>price</th>\n",
       "      <th>abtest</th>\n",
       "      <th>vehicle_type</th>\n",
       "      <th>reg_year</th>\n",
       "      <th>gearbox</th>\n",
       "      <th>power_ps</th>\n",
       "      <th>model</th>\n",
       "      <th>odometer</th>\n",
       "      <th>reg_month</th>\n",
       "      <th>fuel_type</th>\n",
       "      <th>brand</th>\n",
       "      <th>unrepaired_damage</th>\n",
       "      <th>ad_created</th>\n",
       "      <th>nr_of_pictures</th>\n",
       "      <th>postal_code</th>\n",
       "      <th>last_seen</th>\n",
       "    </tr>\n",
       "  </thead>\n",
       "  <tbody>\n",
       "    <tr>\n",
       "      <th>count</th>\n",
       "      <td>50000</td>\n",
       "      <td>50000</td>\n",
       "      <td>50000</td>\n",
       "      <td>50000</td>\n",
       "      <td>50000</td>\n",
       "      <td>50000</td>\n",
       "      <td>44905</td>\n",
       "      <td>50000.000000</td>\n",
       "      <td>47320</td>\n",
       "      <td>50000.000000</td>\n",
       "      <td>47242</td>\n",
       "      <td>50000</td>\n",
       "      <td>50000.000000</td>\n",
       "      <td>45518</td>\n",
       "      <td>50000</td>\n",
       "      <td>40171</td>\n",
       "      <td>50000</td>\n",
       "      <td>50000.0</td>\n",
       "      <td>50000.000000</td>\n",
       "      <td>50000</td>\n",
       "    </tr>\n",
       "    <tr>\n",
       "      <th>unique</th>\n",
       "      <td>48213</td>\n",
       "      <td>38754</td>\n",
       "      <td>2</td>\n",
       "      <td>2</td>\n",
       "      <td>2357</td>\n",
       "      <td>2</td>\n",
       "      <td>8</td>\n",
       "      <td>NaN</td>\n",
       "      <td>2</td>\n",
       "      <td>NaN</td>\n",
       "      <td>245</td>\n",
       "      <td>13</td>\n",
       "      <td>NaN</td>\n",
       "      <td>7</td>\n",
       "      <td>40</td>\n",
       "      <td>2</td>\n",
       "      <td>76</td>\n",
       "      <td>NaN</td>\n",
       "      <td>NaN</td>\n",
       "      <td>39481</td>\n",
       "    </tr>\n",
       "    <tr>\n",
       "      <th>top</th>\n",
       "      <td>2016-03-08 10:40:35</td>\n",
       "      <td>Ford_Fiesta</td>\n",
       "      <td>privat</td>\n",
       "      <td>Angebot</td>\n",
       "      <td>$0</td>\n",
       "      <td>test</td>\n",
       "      <td>limousine</td>\n",
       "      <td>NaN</td>\n",
       "      <td>manuell</td>\n",
       "      <td>NaN</td>\n",
       "      <td>golf</td>\n",
       "      <td>150,000km</td>\n",
       "      <td>NaN</td>\n",
       "      <td>benzin</td>\n",
       "      <td>volkswagen</td>\n",
       "      <td>nein</td>\n",
       "      <td>2016-04-03 00:00:00</td>\n",
       "      <td>NaN</td>\n",
       "      <td>NaN</td>\n",
       "      <td>2016-04-07 06:17:27</td>\n",
       "    </tr>\n",
       "    <tr>\n",
       "      <th>freq</th>\n",
       "      <td>3</td>\n",
       "      <td>78</td>\n",
       "      <td>49999</td>\n",
       "      <td>49999</td>\n",
       "      <td>1421</td>\n",
       "      <td>25756</td>\n",
       "      <td>12859</td>\n",
       "      <td>NaN</td>\n",
       "      <td>36993</td>\n",
       "      <td>NaN</td>\n",
       "      <td>4024</td>\n",
       "      <td>32424</td>\n",
       "      <td>NaN</td>\n",
       "      <td>30107</td>\n",
       "      <td>10687</td>\n",
       "      <td>35232</td>\n",
       "      <td>1946</td>\n",
       "      <td>NaN</td>\n",
       "      <td>NaN</td>\n",
       "      <td>8</td>\n",
       "    </tr>\n",
       "    <tr>\n",
       "      <th>mean</th>\n",
       "      <td>NaN</td>\n",
       "      <td>NaN</td>\n",
       "      <td>NaN</td>\n",
       "      <td>NaN</td>\n",
       "      <td>NaN</td>\n",
       "      <td>NaN</td>\n",
       "      <td>NaN</td>\n",
       "      <td>2005.073280</td>\n",
       "      <td>NaN</td>\n",
       "      <td>116.355920</td>\n",
       "      <td>NaN</td>\n",
       "      <td>NaN</td>\n",
       "      <td>5.723360</td>\n",
       "      <td>NaN</td>\n",
       "      <td>NaN</td>\n",
       "      <td>NaN</td>\n",
       "      <td>NaN</td>\n",
       "      <td>0.0</td>\n",
       "      <td>50813.627300</td>\n",
       "      <td>NaN</td>\n",
       "    </tr>\n",
       "    <tr>\n",
       "      <th>std</th>\n",
       "      <td>NaN</td>\n",
       "      <td>NaN</td>\n",
       "      <td>NaN</td>\n",
       "      <td>NaN</td>\n",
       "      <td>NaN</td>\n",
       "      <td>NaN</td>\n",
       "      <td>NaN</td>\n",
       "      <td>105.712813</td>\n",
       "      <td>NaN</td>\n",
       "      <td>209.216627</td>\n",
       "      <td>NaN</td>\n",
       "      <td>NaN</td>\n",
       "      <td>3.711984</td>\n",
       "      <td>NaN</td>\n",
       "      <td>NaN</td>\n",
       "      <td>NaN</td>\n",
       "      <td>NaN</td>\n",
       "      <td>0.0</td>\n",
       "      <td>25779.747957</td>\n",
       "      <td>NaN</td>\n",
       "    </tr>\n",
       "    <tr>\n",
       "      <th>min</th>\n",
       "      <td>NaN</td>\n",
       "      <td>NaN</td>\n",
       "      <td>NaN</td>\n",
       "      <td>NaN</td>\n",
       "      <td>NaN</td>\n",
       "      <td>NaN</td>\n",
       "      <td>NaN</td>\n",
       "      <td>1000.000000</td>\n",
       "      <td>NaN</td>\n",
       "      <td>0.000000</td>\n",
       "      <td>NaN</td>\n",
       "      <td>NaN</td>\n",
       "      <td>0.000000</td>\n",
       "      <td>NaN</td>\n",
       "      <td>NaN</td>\n",
       "      <td>NaN</td>\n",
       "      <td>NaN</td>\n",
       "      <td>0.0</td>\n",
       "      <td>1067.000000</td>\n",
       "      <td>NaN</td>\n",
       "    </tr>\n",
       "    <tr>\n",
       "      <th>25%</th>\n",
       "      <td>NaN</td>\n",
       "      <td>NaN</td>\n",
       "      <td>NaN</td>\n",
       "      <td>NaN</td>\n",
       "      <td>NaN</td>\n",
       "      <td>NaN</td>\n",
       "      <td>NaN</td>\n",
       "      <td>1999.000000</td>\n",
       "      <td>NaN</td>\n",
       "      <td>70.000000</td>\n",
       "      <td>NaN</td>\n",
       "      <td>NaN</td>\n",
       "      <td>3.000000</td>\n",
       "      <td>NaN</td>\n",
       "      <td>NaN</td>\n",
       "      <td>NaN</td>\n",
       "      <td>NaN</td>\n",
       "      <td>0.0</td>\n",
       "      <td>30451.000000</td>\n",
       "      <td>NaN</td>\n",
       "    </tr>\n",
       "    <tr>\n",
       "      <th>50%</th>\n",
       "      <td>NaN</td>\n",
       "      <td>NaN</td>\n",
       "      <td>NaN</td>\n",
       "      <td>NaN</td>\n",
       "      <td>NaN</td>\n",
       "      <td>NaN</td>\n",
       "      <td>NaN</td>\n",
       "      <td>2003.000000</td>\n",
       "      <td>NaN</td>\n",
       "      <td>105.000000</td>\n",
       "      <td>NaN</td>\n",
       "      <td>NaN</td>\n",
       "      <td>6.000000</td>\n",
       "      <td>NaN</td>\n",
       "      <td>NaN</td>\n",
       "      <td>NaN</td>\n",
       "      <td>NaN</td>\n",
       "      <td>0.0</td>\n",
       "      <td>49577.000000</td>\n",
       "      <td>NaN</td>\n",
       "    </tr>\n",
       "    <tr>\n",
       "      <th>75%</th>\n",
       "      <td>NaN</td>\n",
       "      <td>NaN</td>\n",
       "      <td>NaN</td>\n",
       "      <td>NaN</td>\n",
       "      <td>NaN</td>\n",
       "      <td>NaN</td>\n",
       "      <td>NaN</td>\n",
       "      <td>2008.000000</td>\n",
       "      <td>NaN</td>\n",
       "      <td>150.000000</td>\n",
       "      <td>NaN</td>\n",
       "      <td>NaN</td>\n",
       "      <td>9.000000</td>\n",
       "      <td>NaN</td>\n",
       "      <td>NaN</td>\n",
       "      <td>NaN</td>\n",
       "      <td>NaN</td>\n",
       "      <td>0.0</td>\n",
       "      <td>71540.000000</td>\n",
       "      <td>NaN</td>\n",
       "    </tr>\n",
       "    <tr>\n",
       "      <th>max</th>\n",
       "      <td>NaN</td>\n",
       "      <td>NaN</td>\n",
       "      <td>NaN</td>\n",
       "      <td>NaN</td>\n",
       "      <td>NaN</td>\n",
       "      <td>NaN</td>\n",
       "      <td>NaN</td>\n",
       "      <td>9999.000000</td>\n",
       "      <td>NaN</td>\n",
       "      <td>17700.000000</td>\n",
       "      <td>NaN</td>\n",
       "      <td>NaN</td>\n",
       "      <td>12.000000</td>\n",
       "      <td>NaN</td>\n",
       "      <td>NaN</td>\n",
       "      <td>NaN</td>\n",
       "      <td>NaN</td>\n",
       "      <td>0.0</td>\n",
       "      <td>99998.000000</td>\n",
       "      <td>NaN</td>\n",
       "    </tr>\n",
       "  </tbody>\n",
       "</table>\n",
       "</div>"
      ],
      "text/plain": [
       "               date_crawled         name  seller offer_type  price abtest  \\\n",
       "count                 50000        50000   50000      50000  50000  50000   \n",
       "unique                48213        38754       2          2   2357      2   \n",
       "top     2016-03-08 10:40:35  Ford_Fiesta  privat    Angebot     $0   test   \n",
       "freq                      3           78   49999      49999   1421  25756   \n",
       "mean                    NaN          NaN     NaN        NaN    NaN    NaN   \n",
       "std                     NaN          NaN     NaN        NaN    NaN    NaN   \n",
       "min                     NaN          NaN     NaN        NaN    NaN    NaN   \n",
       "25%                     NaN          NaN     NaN        NaN    NaN    NaN   \n",
       "50%                     NaN          NaN     NaN        NaN    NaN    NaN   \n",
       "75%                     NaN          NaN     NaN        NaN    NaN    NaN   \n",
       "max                     NaN          NaN     NaN        NaN    NaN    NaN   \n",
       "\n",
       "       vehicle_type      reg_year  gearbox      power_ps  model   odometer  \\\n",
       "count         44905  50000.000000    47320  50000.000000  47242      50000   \n",
       "unique            8           NaN        2           NaN    245         13   \n",
       "top       limousine           NaN  manuell           NaN   golf  150,000km   \n",
       "freq          12859           NaN    36993           NaN   4024      32424   \n",
       "mean            NaN   2005.073280      NaN    116.355920    NaN        NaN   \n",
       "std             NaN    105.712813      NaN    209.216627    NaN        NaN   \n",
       "min             NaN   1000.000000      NaN      0.000000    NaN        NaN   \n",
       "25%             NaN   1999.000000      NaN     70.000000    NaN        NaN   \n",
       "50%             NaN   2003.000000      NaN    105.000000    NaN        NaN   \n",
       "75%             NaN   2008.000000      NaN    150.000000    NaN        NaN   \n",
       "max             NaN   9999.000000      NaN  17700.000000    NaN        NaN   \n",
       "\n",
       "           reg_month fuel_type       brand unrepaired_damage  \\\n",
       "count   50000.000000     45518       50000             40171   \n",
       "unique           NaN         7          40                 2   \n",
       "top              NaN    benzin  volkswagen              nein   \n",
       "freq             NaN     30107       10687             35232   \n",
       "mean        5.723360       NaN         NaN               NaN   \n",
       "std         3.711984       NaN         NaN               NaN   \n",
       "min         0.000000       NaN         NaN               NaN   \n",
       "25%         3.000000       NaN         NaN               NaN   \n",
       "50%         6.000000       NaN         NaN               NaN   \n",
       "75%         9.000000       NaN         NaN               NaN   \n",
       "max        12.000000       NaN         NaN               NaN   \n",
       "\n",
       "                 ad_created  nr_of_pictures   postal_code            last_seen  \n",
       "count                 50000         50000.0  50000.000000                50000  \n",
       "unique                   76             NaN           NaN                39481  \n",
       "top     2016-04-03 00:00:00             NaN           NaN  2016-04-07 06:17:27  \n",
       "freq                   1946             NaN           NaN                    8  \n",
       "mean                    NaN             0.0  50813.627300                  NaN  \n",
       "std                     NaN             0.0  25779.747957                  NaN  \n",
       "min                     NaN             0.0   1067.000000                  NaN  \n",
       "25%                     NaN             0.0  30451.000000                  NaN  \n",
       "50%                     NaN             0.0  49577.000000                  NaN  \n",
       "75%                     NaN             0.0  71540.000000                  NaN  \n",
       "max                     NaN             0.0  99998.000000                  NaN  "
      ]
     },
     "execution_count": 4,
     "metadata": {},
     "output_type": "execute_result"
    }
   ],
   "source": [
    "# We can check the excel for some skimming, or..\n",
    "\n",
    "# we can do `DataFrame.describe() to pinpoint out\n",
    "# data that can be deleted for efficiency\n",
    "autos.describe(include='all')"
   ]
  },
  {
   "cell_type": "markdown",
   "metadata": {},
   "source": [
    "The columns of with less `unique` may indicate the lack of data. This also applies to columns whose `mean` to `max` equals 0. Let's check it out!"
   ]
  },
  {
   "cell_type": "code",
   "execution_count": 5,
   "metadata": {},
   "outputs": [
    {
     "name": "stdout",
     "output_type": "stream",
     "text": [
      "privat        49999\n",
      "gewerblich        1\n",
      "Name: seller, dtype: int64\n",
      "Angebot    49999\n",
      "Gesuch         1\n",
      "Name: offer_type, dtype: int64\n",
      "test       25756\n",
      "control    24244\n",
      "Name: abtest, dtype: int64\n",
      "manuell      36993\n",
      "automatik    10327\n",
      "Name: gearbox, dtype: int64\n",
      "nein    35232\n",
      "ja       4939\n",
      "Name: unrepaired_damage, dtype: int64\n",
      "0    50000\n",
      "Name: nr_of_pictures, dtype: int64\n"
     ]
    }
   ],
   "source": [
    "## Columns whose `unique` values are only 1/2\n",
    "print(autos[\"seller\"].value_counts())\n",
    "print(autos[\"offer_type\"].value_counts())\n",
    "print(autos[\"abtest\"].value_counts())\n",
    "print(autos[\"gearbox\"].value_counts())\n",
    "print(autos[\"unrepaired_damage\"].value_counts())\n",
    "\n",
    "## Columns whose `mean` to `max` data equals 0\n",
    "print(autos[\"nr_of_pictures\"].value_counts())"
   ]
  },
  {
   "cell_type": "markdown",
   "metadata": {},
   "source": [
    "As you can see, columns `seller` and `offer_type` has nearly all the same values. Also, the column `nr_of_picture` does not have any data whatsoever. Sooo, we're deleting these columns."
   ]
  },
  {
   "cell_type": "code",
   "execution_count": 6,
   "metadata": {},
   "outputs": [
    {
     "name": "stdout",
     "output_type": "stream",
     "text": [
      "          date_crawled                                               name  \\\n",
      "0  2016-03-26 17:47:46                   Peugeot_807_160_NAVTECH_ON_BOARD   \n",
      "1  2016-04-04 13:38:56         BMW_740i_4_4_Liter_HAMANN_UMBAU_Mega_Optik   \n",
      "2  2016-03-26 18:57:24                         Volkswagen_Golf_1.6_United   \n",
      "3  2016-03-12 16:58:10  Smart_smart_fortwo_coupe_softouch/F1/Klima/Pan...   \n",
      "4  2016-04-01 14:38:50  Ford_Focus_1_6_Benzin_TÜV_neu_ist_sehr_gepfleg...   \n",
      "\n",
      "    price   abtest vehicle_type  reg_year    gearbox  power_ps   model  \\\n",
      "0  $5,000  control          bus      2004    manuell       158  andere   \n",
      "1  $8,500  control    limousine      1997  automatik       286     7er   \n",
      "2  $8,990     test    limousine      2009    manuell       102    golf   \n",
      "3  $4,350  control   kleinwagen      2007  automatik        71  fortwo   \n",
      "4  $1,350     test        kombi      2003    manuell         0   focus   \n",
      "\n",
      "    odometer  reg_month fuel_type       brand unrepaired_damage  \\\n",
      "0  150,000km          3       lpg     peugeot              nein   \n",
      "1  150,000km          6    benzin         bmw              nein   \n",
      "2   70,000km          7    benzin  volkswagen              nein   \n",
      "3   70,000km          6    benzin       smart              nein   \n",
      "4  150,000km          7    benzin        ford              nein   \n",
      "\n",
      "            ad_created  postal_code            last_seen  \n",
      "0  2016-03-26 00:00:00        79588  2016-04-06 06:45:54  \n",
      "1  2016-04-04 00:00:00        71034  2016-04-06 14:45:08  \n",
      "2  2016-03-26 00:00:00        35394  2016-04-06 20:15:37  \n",
      "3  2016-03-12 00:00:00        33729  2016-03-15 03:16:28  \n",
      "4  2016-04-01 00:00:00        39218  2016-04-01 14:38:50  \n"
     ]
    }
   ],
   "source": [
    "# Drop these columns in axis=1\n",
    "autos = autos.drop([\"seller\", \"offer_type\", \"nr_of_pictures\"], axis=1)\n",
    "print(autos.head())"
   ]
  },
  {
   "cell_type": "code",
   "execution_count": 7,
   "metadata": {},
   "outputs": [],
   "source": [
    "# Clean the \"$\" in `price` to have the number data only, \n",
    "# and change `price` type from `object` or `str` to `int`.\n",
    "autos[\"price\"] = (autos[\"price\"]\n",
    "                            .str.replace(\"$\", \"\")\n",
    "                            .str.replace(\",\", \"\")\n",
    "                            .astype(int)\n",
    "                 )\n",
    "\n",
    "# Change data format in `odometer` from `10000km` to `10000`,\n",
    "# and then change the type into `int` and rename it `odometer_km`\n",
    "autos[\"odometer\"] = (autos[\"odometer\"]\n",
    "                                     .str.replace(\"km\", \"\")\n",
    "                                     .str.replace(\",\", \"\")\n",
    "                                     .astype(int)\n",
    "                    )\n",
    "                     \n",
    "autos.rename({'odometer': 'odometer_km'}, axis=1, inplace=True)"
   ]
  },
  {
   "cell_type": "markdown",
   "metadata": {},
   "source": [
    "Let's check if there are outliers in both data!"
   ]
  },
  {
   "cell_type": "code",
   "execution_count": 8,
   "metadata": {},
   "outputs": [
    {
     "name": "stdout",
     "output_type": "stream",
     "text": [
      "2357 \n",
      "\n",
      "count    5.000000e+04\n",
      "mean     9.840044e+03\n",
      "std      4.811044e+05\n",
      "min      0.000000e+00\n",
      "25%      1.100000e+03\n",
      "50%      2.950000e+03\n",
      "75%      7.200000e+03\n",
      "max      1.000000e+08\n",
      "Name: price, dtype: float64 \n",
      "\n",
      "99999999    1\n",
      "27322222    1\n",
      "12345678    3\n",
      "11111111    2\n",
      "10000000    1\n",
      "3890000     1\n",
      "1300000     1\n",
      "1234566     1\n",
      "999999      2\n",
      "999990      1\n",
      "350000      1\n",
      "345000      1\n",
      "299000      1\n",
      "295000      1\n",
      "265000      1\n",
      "259000      1\n",
      "250000      1\n",
      "220000      1\n",
      "198000      1\n",
      "197000      1\n",
      "194000      1\n",
      "190000      1\n",
      "180000      1\n",
      "175000      1\n",
      "169999      1\n",
      "169000      1\n",
      "163991      1\n",
      "163500      1\n",
      "155000      1\n",
      "151990      1\n",
      "145000      1\n",
      "139997      1\n",
      "137999      1\n",
      "135000      1\n",
      "130000      1\n",
      "129000      1\n",
      "128000      1\n",
      "120000      2\n",
      "119900      1\n",
      "119500      1\n",
      "Name: price, dtype: int64 \n",
      "\n",
      "0     1421\n",
      "1      156\n",
      "2        3\n",
      "3        1\n",
      "5        2\n",
      "8        1\n",
      "9        1\n",
      "10       7\n",
      "11       2\n",
      "12       3\n",
      "13       2\n",
      "14       1\n",
      "15       2\n",
      "17       3\n",
      "18       1\n",
      "20       4\n",
      "25       5\n",
      "29       1\n",
      "30       7\n",
      "35       1\n",
      "Name: price, dtype: int64 \n",
      "\n"
     ]
    }
   ],
   "source": [
    "uniq_price = autos[\"price\"].unique().shape[0]\n",
    "desc_price = autos[\"price\"].describe()\n",
    "\n",
    "# One thing I learned:\n",
    "# As long as the output remain the same as input\n",
    "# (for instance Series input to Series output),\n",
    "# you can chain the functions aaaall at once.\n",
    "\n",
    "valc_price_desc = (autos[\"price\"]\n",
    "                          .value_counts()\n",
    "                          .sort_index(ascending=False)\n",
    "                          .head(40)\n",
    "                 )\n",
    "\n",
    "valc_price_asc = (autos[\"price\"]\n",
    "                          .value_counts()\n",
    "                          .sort_index(ascending=True)\n",
    "                          .head(20)\n",
    "                 )\n",
    "\n",
    "print(uniq_price, \"\\n\")\n",
    "print(desc_price, \"\\n\")\n",
    "print(valc_price_desc, \"\\n\")\n",
    "print(valc_price_asc, \"\\n\")"
   ]
  },
  {
   "cell_type": "markdown",
   "metadata": {},
   "source": [
    "There's a spectrum of outliers around the data. We can clean it out by putting ranges in between. And to make it easier, we can use the built-in method `Series.between(x,y)` as the argument."
   ]
  },
  {
   "cell_type": "code",
   "execution_count": 13,
   "metadata": {},
   "outputs": [
    {
     "data": {
      "text/plain": [
       "count     48565.000000\n",
       "mean       5888.935591\n",
       "std        9059.854754\n",
       "min           1.000000\n",
       "25%        1200.000000\n",
       "50%        3000.000000\n",
       "75%        7490.000000\n",
       "max      350000.000000\n",
       "Name: price, dtype: float64"
      ]
     },
     "execution_count": 13,
     "metadata": {},
     "output_type": "execute_result"
    }
   ],
   "source": [
    "# Spectrum range: 1 - 351000\n",
    "autos = autos[ (autos[\"price\"].between(1,351000)) ]\n",
    "autos[\"price\"].describe()"
   ]
  },
  {
   "cell_type": "markdown",
   "metadata": {},
   "source": [
    "We've cleaned the data from 50k to 48.5k with `price` range of 1 - 350,000 dollars. \\[WITH HELP\\] Lesson learned: You need to recheck what's the range gonna be by sorting it in Excel, that way you can find out organically. Based on the sorting, `price` above 350000 dollars tend to skyrocket to an outlier `price`. That way we can clean it out."
   ]
  },
  {
   "cell_type": "markdown",
   "metadata": {},
   "source": [
    "Let's check out the date format!"
   ]
  },
  {
   "cell_type": "markdown",
   "metadata": {},
   "source": [
    "## Data Cleaning: Dates"
   ]
  },
  {
   "cell_type": "code",
   "execution_count": 10,
   "metadata": {
    "scrolled": true
   },
   "outputs": [
    {
     "name": "stdout",
     "output_type": "stream",
     "text": [
      "          date_crawled           ad_created            last_seen\n",
      "0  2016-03-26 17:47:46  2016-03-26 00:00:00  2016-04-06 06:45:54\n",
      "1  2016-04-04 13:38:56  2016-04-04 00:00:00  2016-04-06 14:45:08\n",
      "2  2016-03-26 18:57:24  2016-03-26 00:00:00  2016-04-06 20:15:37\n",
      "3  2016-03-12 16:58:10  2016-03-12 00:00:00  2016-03-15 03:16:28\n",
      "4  2016-04-01 14:38:50  2016-04-01 00:00:00  2016-04-01 14:38:50\n"
     ]
    }
   ],
   "source": [
    "autos_date = autos[['date_crawled', 'ad_created', 'last_seen']]\n",
    "print(autos_date[0:5])"
   ]
  },
  {
   "cell_type": "code",
   "execution_count": 15,
   "metadata": {},
   "outputs": [
    {
     "name": "stdout",
     "output_type": "stream",
     "text": [
      "0        2016-03-26\n",
      "1        2016-04-04\n",
      "2        2016-03-26\n",
      "3        2016-03-12\n",
      "4        2016-04-01\n",
      "            ...    \n",
      "49995    2016-03-27\n",
      "49996    2016-03-28\n",
      "49997    2016-04-02\n",
      "49998    2016-03-08\n",
      "49999    2016-03-14\n",
      "Name: date_crawled, Length: 48565, dtype: object\n"
     ]
    }
   ],
   "source": [
    "## LESSON LEARNED:\n",
    "# You can print the first several letters of `str`\n",
    "# in each series/dataframe. That way you can pickup\n",
    "# what's date and what's time. Let's look at code below.\n",
    "\n",
    "print(autos['date_crawled'].str[:10])"
   ]
  },
  {
   "cell_type": "markdown",
   "metadata": {},
   "source": [
    "We can sort the dates by (1) segmenting the dates or 10 first letters, (2) sort it out with built-in function `sorted_values()`, with addition of arguments `normalize=True` for converting the values to percentages and `dropna=False` to not drop the NaN values. We do this for each `Series` (There's no method like this in `Dataframe`, so you gotta do it one-by-one)"
   ]
  },
  {
   "cell_type": "code",
   "execution_count": 18,
   "metadata": {},
   "outputs": [
    {
     "name": "stdout",
     "output_type": "stream",
     "text": [
      "2016-03-05    0.025327\n",
      "2016-03-06    0.014043\n",
      "2016-03-07    0.036014\n",
      "2016-03-08    0.033296\n",
      "2016-03-09    0.033090\n",
      "2016-03-10    0.032184\n",
      "2016-03-11    0.032575\n",
      "2016-03-12    0.036920\n",
      "2016-03-13    0.015670\n",
      "2016-03-14    0.036549\n",
      "2016-03-15    0.034284\n",
      "2016-03-16    0.029610\n",
      "2016-03-17    0.031628\n",
      "2016-03-18    0.012911\n",
      "2016-03-19    0.034778\n",
      "2016-03-20    0.037887\n",
      "2016-03-21    0.037373\n",
      "2016-03-22    0.032987\n",
      "2016-03-23    0.032225\n",
      "2016-03-24    0.029342\n",
      "2016-03-25    0.031607\n",
      "2016-03-26    0.032204\n",
      "2016-03-27    0.031092\n",
      "2016-03-28    0.034860\n",
      "2016-03-29    0.034099\n",
      "2016-03-30    0.033687\n",
      "2016-03-31    0.031834\n",
      "2016-04-01    0.033687\n",
      "2016-04-02    0.035478\n",
      "2016-04-03    0.038608\n",
      "2016-04-04    0.036487\n",
      "2016-04-05    0.013096\n",
      "2016-04-06    0.003171\n",
      "2016-04-07    0.001400\n",
      "Name: date_crawled, dtype: float64\n"
     ]
    }
   ],
   "source": [
    "## `date_crawled`\n",
    "print(autos[\"date_crawled\"]\n",
    "      .str[:10]\n",
    "      .value_counts(\n",
    "          normalize=True, \n",
    "          dropna=False)\n",
    "      .sort_index(\n",
    "          ascending=True)\n",
    "     )"
   ]
  },
  {
   "cell_type": "code",
   "execution_count": 19,
   "metadata": {},
   "outputs": [
    {
     "name": "stdout",
     "output_type": "stream",
     "text": [
      "2015-06-11    0.000021\n",
      "2015-08-10    0.000021\n",
      "2015-09-09    0.000021\n",
      "2015-11-10    0.000021\n",
      "2015-12-05    0.000021\n",
      "                ...   \n",
      "2016-04-03    0.038855\n",
      "2016-04-04    0.036858\n",
      "2016-04-05    0.011819\n",
      "2016-04-06    0.003253\n",
      "2016-04-07    0.001256\n",
      "Name: ad_created, Length: 76, dtype: float64\n"
     ]
    }
   ],
   "source": [
    "## `ad_created`\n",
    "print(autos[\"ad_created\"]\n",
    "      .str[:10]\n",
    "      .value_counts(\n",
    "          normalize=True, \n",
    "          dropna=False)\n",
    "      .sort_index(\n",
    "          ascending=True)\n",
    "     )"
   ]
  },
  {
   "cell_type": "code",
   "execution_count": 20,
   "metadata": {},
   "outputs": [
    {
     "name": "stdout",
     "output_type": "stream",
     "text": [
      "2016-03-05    0.001071\n",
      "2016-03-06    0.004324\n",
      "2016-03-07    0.005395\n",
      "2016-03-08    0.007413\n",
      "2016-03-09    0.009595\n",
      "2016-03-10    0.010666\n",
      "2016-03-11    0.012375\n",
      "2016-03-12    0.023783\n",
      "2016-03-13    0.008895\n",
      "2016-03-14    0.012602\n",
      "2016-03-15    0.015876\n",
      "2016-03-16    0.016452\n",
      "2016-03-17    0.028086\n",
      "2016-03-18    0.007351\n",
      "2016-03-19    0.015834\n",
      "2016-03-20    0.020653\n",
      "2016-03-21    0.020632\n",
      "2016-03-22    0.021373\n",
      "2016-03-23    0.018532\n",
      "2016-03-24    0.019767\n",
      "2016-03-25    0.019211\n",
      "2016-03-26    0.016802\n",
      "2016-03-27    0.015649\n",
      "2016-03-28    0.020859\n",
      "2016-03-29    0.022341\n",
      "2016-03-30    0.024771\n",
      "2016-03-31    0.023783\n",
      "2016-04-01    0.022794\n",
      "2016-04-02    0.024915\n",
      "2016-04-03    0.025203\n",
      "2016-04-04    0.024483\n",
      "2016-04-05    0.124761\n",
      "2016-04-06    0.221806\n",
      "2016-04-07    0.131947\n",
      "Name: last_seen, dtype: float64\n"
     ]
    }
   ],
   "source": [
    "## `last_seen`\n",
    "print(autos[\"last_seen\"]\n",
    "      .str[:10]\n",
    "      .value_counts(\n",
    "          normalize=True, \n",
    "          dropna=False)\n",
    "      .sort_index(\n",
    "          ascending=True)\n",
    "     )"
   ]
  },
  {
   "cell_type": "markdown",
   "metadata": {},
   "source": [
    "We can also see the distribution in year of registration `reg_year` to see the car-buying trend."
   ]
  },
  {
   "cell_type": "code",
   "execution_count": 22,
   "metadata": {},
   "outputs": [
    {
     "name": "stdout",
     "output_type": "stream",
     "text": [
      "1000    0.000021\n",
      "1001    0.000021\n",
      "1111    0.000021\n",
      "1800    0.000041\n",
      "1910    0.000103\n",
      "          ...   \n",
      "5911    0.000021\n",
      "6200    0.000021\n",
      "8888    0.000021\n",
      "9000    0.000021\n",
      "9999    0.000062\n",
      "Name: reg_year, Length: 95, dtype: float64\n"
     ]
    }
   ],
   "source": [
    "## reg_year\n",
    "\n",
    "print(autos[\"reg_year\"]\n",
    "      .value_counts(\n",
    "          normalize=True, \n",
    "          dropna=False)\n",
    "      .sort_index(\n",
    "          ascending=True)\n",
    "     )"
   ]
  },
  {
   "cell_type": "markdown",
   "metadata": {},
   "source": [
    "$New Discovery:$ We've noticed that there are several data whose years in `year` are invalid, i.e. 1000 (way in the past) and 9999 (way in the future). We can clean them out using the same code with `between(x,y)`."
   ]
  },
  {
   "cell_type": "markdown",
   "metadata": {},
   "source": [
    "To decide the range, above 2016 is not accurate, since the data is handled at that time. We can take 1900 as the year car invented. Or no. Actually, let's see when eBay started. $*searching*$ 1995, that's reasonable. So, 1995-2016 it is."
   ]
  },
  {
   "cell_type": "code",
   "execution_count": 25,
   "metadata": {},
   "outputs": [
    {
     "data": {
      "text/plain": [
       "2000    0.072931\n",
       "2005    0.067847\n",
       "1999    0.066946\n",
       "2004    0.062462\n",
       "2003    0.062370\n",
       "2006    0.061700\n",
       "2001    0.060914\n",
       "2002    0.057448\n",
       "1998    0.054606\n",
       "2007    0.052618\n",
       "Name: reg_year, dtype: float64"
      ]
     },
     "execution_count": 25,
     "metadata": {},
     "output_type": "execute_result"
    }
   ],
   "source": [
    "autos = autos[ (autos[\"reg_year\"].between(1995,2016)) ]\n",
    "autos[\"reg_year\"].describe()\n",
    "autos[\"reg_year\"].value_counts(normalize=True).head(10)"
   ]
  },
  {
   "cell_type": "markdown",
   "metadata": {},
   "source": [
    "Now, we've cleaned the data further from 48,5k to 43,3k. That's neat :D"
   ]
  },
  {
   "cell_type": "markdown",
   "metadata": {},
   "source": [
    "## Exploring Data: Price by Brand\n",
    "Now seeing that the data's clean, we can move on to exploration!"
   ]
  },
  {
   "cell_type": "markdown",
   "metadata": {},
   "source": [
    "We can look for the popular brand bought over the years by aggregating the `brand` data into `cict` type containing keys and values. First up, let's look for the unique values in the `Series`."
   ]
  },
  {
   "cell_type": "code",
   "execution_count": 36,
   "metadata": {},
   "outputs": [
    {
     "data": {
      "text/plain": [
       "array(['peugeot', 'bmw', 'volkswagen', 'smart', 'ford', 'chrysler',\n",
       "       'seat', 'renault', 'mercedes_benz', 'audi', 'opel', 'mazda',\n",
       "       'porsche', 'mini', 'toyota', 'dacia', 'saab', 'volvo', 'nissan',\n",
       "       'mitsubishi', 'jaguar', 'fiat', 'skoda', 'subaru',\n",
       "       'sonstige_autos', 'kia', 'citroen', 'chevrolet', 'hyundai',\n",
       "       'honda', 'daewoo', 'suzuki', 'land_rover', 'jeep', 'alfa_romeo',\n",
       "       'rover', 'daihatsu', 'lancia', 'lada', 'trabant'], dtype=object)"
      ]
     },
     "execution_count": 36,
     "metadata": {},
     "output_type": "execute_result"
    }
   ],
   "source": [
    "autos[\"brand\"].unique()"
   ]
  },
  {
   "cell_type": "code",
   "execution_count": 40,
   "metadata": {},
   "outputs": [
    {
     "name": "stdout",
     "output_type": "stream",
     "text": [
      "volkswagen        0.204326\n",
      "bmw               0.110551\n",
      "opel              0.110436\n",
      "mercedes_benz     0.092249\n",
      "audi              0.087258\n",
      "ford              0.071868\n",
      "renault           0.049845\n",
      "peugeot           0.031451\n",
      "fiat              0.026367\n",
      "seat              0.019365\n",
      "skoda             0.017516\n",
      "mazda             0.015598\n",
      "nissan            0.015413\n",
      "smart             0.015252\n",
      "citroen           0.014535\n",
      "toyota            0.013033\n",
      "hyundai           0.010792\n",
      "mini              0.009359\n",
      "volvo             0.008596\n",
      "mitsubishi        0.008504\n",
      "kia               0.007626\n",
      "honda             0.007510\n",
      "sonstige_autos    0.006748\n",
      "alfa_romeo        0.006586\n",
      "suzuki            0.005962\n",
      "porsche           0.005315\n",
      "chevrolet         0.005084\n",
      "chrysler          0.003513\n",
      "dacia             0.002842\n",
      "daihatsu          0.002657\n",
      "land_rover        0.002149\n",
      "jeep              0.002103\n",
      "subaru            0.002080\n",
      "daewoo            0.001618\n",
      "saab              0.001571\n",
      "jaguar            0.001433\n",
      "rover             0.001387\n",
      "lancia            0.000994\n",
      "lada              0.000485\n",
      "trabant           0.000023\n",
      "Name: brand, dtype: float64\n"
     ]
    }
   ],
   "source": [
    "## Do the same sorting code as the previous ones,\n",
    "## you don't sort the letters and you sort the values descendingly.\n",
    "\n",
    "brand_counts = (autos[\"brand\"]\n",
    "              .value_counts(\n",
    "              normalize=True, \n",
    "              dropna=False)\n",
    "             )\n",
    "\n",
    "print(brand_counts)"
   ]
  },
  {
   "cell_type": "markdown",
   "metadata": {},
   "source": [
    "As you can see in the output above, brand `volkswagen` is sold the most with a percentage of 20,4%. We can aggregate the brand that makes up >5% of the sales and see the mean price for each one. We're using a built-in function `index` to show us what brands are sold the most. Let's dive in, shall we?"
   ]
  },
  {
   "cell_type": "code",
   "execution_count": 47,
   "metadata": {},
   "outputs": [
    {
     "name": "stdout",
     "output_type": "stream",
     "text": [
      "Index(['volkswagen', 'bmw', 'opel', 'mercedes_benz', 'audi', 'ford'], dtype='object') \n",
      "\n",
      "\n",
      "{'volkswagen': 5699.139, 'bmw': 8687.546, 'opel': 3015.35, 'mercedes_benz': 8922.736, 'audi': 9837.648, 'ford': 3495.034}\n"
     ]
    }
   ],
   "source": [
    "# Define the brands we're going to aggregate:\n",
    "common_brands = brand_counts[brand_counts > .05].index\n",
    "print(common_brands, \"\\n\\n\")\n",
    "\n",
    "# Define an empty dictionary\n",
    "brand_mean_prices = {}\n",
    "\n",
    "# Loop the DataFrame with each brands\n",
    "for b in common_brands:\n",
    "    \n",
    "    # Define the selected rows as\n",
    "    # the DataFrame whose `brand` is in the list.\n",
    "    brand_only = autos[ autos[\"brand\"] == b ]\n",
    "    \n",
    "    # USE THE BUILT-IN METHOD: `mean()`.\n",
    "    # LESSON LEARNED: Look. A lot. in. the.\n",
    "    # DO-CU-MEN-TA-TION! It's handy for you.\n",
    "    mean_price = brand_only[\"price\"].mean()\n",
    "    \n",
    "    # Put the mean in the `dict` as value,\n",
    "    # also with the brand as the [key]\n",
    "    brand_mean_prices[b] = round(mean_price, 3)\n",
    "\n",
    "print(brand_mean_prices)"
   ]
  },
  {
   "cell_type": "markdown",
   "metadata": {},
   "source": [
    "As we can see, there are 6 cars that makes up at least 5% of the sales. Their sales range from 3015 to 9837 dollars. And the price gap is visible. Why could it be? Is it because of the feature they give? And.. can we put both data at once we can compare it easily? Let's find out."
   ]
  },
  {
   "cell_type": "markdown",
   "metadata": {},
   "source": [
    "## Data Exploration: Brand by Average Mileage"
   ]
  },
  {
   "cell_type": "markdown",
   "metadata": {},
   "source": [
    "Use the loop method from the previous one to aggregate `brand` to determine the average mileage."
   ]
  },
  {
   "cell_type": "code",
   "execution_count": 48,
   "metadata": {},
   "outputs": [
    {
     "name": "stdout",
     "output_type": "stream",
     "text": [
      "{'volkswagen': 128384.415, 'bmw': 132195.861, 'opel': 129931.994, 'mercedes_benz': 130199.148, 'audi': 128086.6, 'ford': 125411.576}\n"
     ]
    }
   ],
   "source": [
    "# Define an empty dictionary\n",
    "brand_avg_mile = {}\n",
    "\n",
    "# Loop the DataFrame with each brands\n",
    "for b in common_brands:\n",
    "    \n",
    "    # Define the selected rows as\n",
    "    # the DataFrame whose `brand` is in the list.\n",
    "    brand_only = autos[ autos[\"brand\"] == b ]\n",
    "    \n",
    "    # USE THE BUILT-IN METHOD: `mean()`.\n",
    "    # LESSON LEARNED: Look. A lot. in. the.\n",
    "    # DO-CU-MEN-TA-TION! It's handy for you.\n",
    "    avg_mile = brand_only[\"odometer_km\"].mean()\n",
    "    \n",
    "    # Put the mean in the `dict` as value,\n",
    "    # also with the brand as the [key]\n",
    "    brand_avg_mile[b] = round(avg_mile, 3)\n",
    "\n",
    "print(brand_avg_mile)"
   ]
  },
  {
   "cell_type": "markdown",
   "metadata": {},
   "source": [
    "Now that we've got both data, we can make it into a new table that we can save on. How, you ask? We can learn by doing by using:\n",
    "* pandas series constructor\n",
    "* pandas dataframe constructor"
   ]
  },
  {
   "cell_type": "code",
   "execution_count": 56,
   "metadata": {},
   "outputs": [
    {
     "name": "stdout",
     "output_type": "stream",
     "text": [
      "audi             9837.648\n",
      "mercedes_benz    8922.736\n",
      "bmw              8687.546\n",
      "volkswagen       5699.139\n",
      "ford             3495.034\n",
      "opel             3015.350\n",
      "dtype: float64\n"
     ]
    }
   ],
   "source": [
    "# Series: Make the `dict` into a `Series`\n",
    "bmp_series = pd.Series(brand_mean_prices).sort_values(ascending=False)\n",
    "print(bmp_series)"
   ]
  },
  {
   "cell_type": "code",
   "execution_count": 61,
   "metadata": {},
   "outputs": [
    {
     "name": "stdout",
     "output_type": "stream",
     "text": [
      "               mean_price\n",
      "audi             9837.648\n",
      "mercedes_benz    8922.736\n",
      "bmw              8687.546\n",
      "volkswagen       5699.139\n",
      "ford             3495.034\n",
      "opel             3015.350\n"
     ]
    }
   ],
   "source": [
    "# Series: Make the `dict` into a `Series`\n",
    "df_mp_am = pd.DataFrame(bmp_series, columns=['mean_price'])\n",
    "print(df_mp_am)"
   ]
  },
  {
   "cell_type": "markdown",
   "metadata": {},
   "source": [
    "We can put another `Series` in a `DataFrame` to combine the data."
   ]
  },
  {
   "cell_type": "code",
   "execution_count": 62,
   "metadata": {},
   "outputs": [
    {
     "name": "stdout",
     "output_type": "stream",
     "text": [
      "bmw              132195.861\n",
      "mercedes_benz    130199.148\n",
      "opel             129931.994\n",
      "volkswagen       128384.415\n",
      "audi             128086.600\n",
      "ford             125411.576\n",
      "dtype: float64\n"
     ]
    }
   ],
   "source": [
    "bmam_series = pd.Series(brand_avg_mile).sort_values(ascending=False)\n",
    "print(bmam_series)"
   ]
  },
  {
   "cell_type": "code",
   "execution_count": 64,
   "metadata": {},
   "outputs": [
    {
     "name": "stdout",
     "output_type": "stream",
     "text": [
      "               mean_price    avg_mile\n",
      "audi             9837.648  128086.600\n",
      "mercedes_benz    8922.736  130199.148\n",
      "bmw              8687.546  132195.861\n",
      "volkswagen       5699.139  128384.415\n",
      "ford             3495.034  125411.576\n",
      "opel             3015.350  129931.994\n"
     ]
    }
   ],
   "source": [
    "# WHen we have a made `DataFrame` already,\n",
    "# we can just assign a new series as usual.\n",
    "\n",
    "df_mp_am[\"avg_mile\"] = bmam_series\n",
    "print(df_mp_am)"
   ]
  },
  {
   "cell_type": "markdown",
   "metadata": {},
   "source": [
    "We can see that the correlations on both data are not that much. So it may not be the reason the car is commonly sold."
   ]
  },
  {
   "cell_type": "markdown",
   "metadata": {},
   "source": [
    "## Aaaand that's about it.\n",
    "## Congratz for finishing the guided project!"
   ]
  },
  {
   "cell_type": "markdown",
   "metadata": {},
   "source": [
    "In this guided project, we practiced applying a variety of pandas methods to explore and understand a data set on car listings. Here are some next steps for you to consider:\n",
    "\n",
    "* Data cleaning next steps:\n",
    "    * Identify categorical data that uses german words, translate them and map the values to their english counterparts\n",
    "    * Convert the dates to be uniform numeric data, so \"2016-03-21\" becomes the integer 20160321.\n",
    "    * See if there are particular keywords in the name column that you can extract as new columns\n",
    "\n",
    "* Analysis next steps:\n",
    "    * Find the most common brand/model combinations\n",
    "    * Split the odometer_km into groups, and use aggregation to see if average prices follows any patterns based on the mileage.\n",
    "    * How much cheaper are cars with damage than their non-damaged counterparts?"
   ]
  },
  {
   "cell_type": "code",
   "execution_count": null,
   "metadata": {},
   "outputs": [],
   "source": []
  }
 ],
 "metadata": {
  "kernelspec": {
   "display_name": "Python 3",
   "language": "python",
   "name": "python3"
  },
  "language_info": {
   "codemirror_mode": {
    "name": "ipython",
    "version": 3
   },
   "file_extension": ".py",
   "mimetype": "text/x-python",
   "name": "python",
   "nbconvert_exporter": "python",
   "pygments_lexer": "ipython3",
   "version": "3.8.2"
  }
 },
 "nbformat": 4,
 "nbformat_minor": 2
}
